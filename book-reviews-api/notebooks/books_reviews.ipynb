{
 "cells": [
  {
   "cell_type": "code",
   "execution_count": 1,
   "id": "d0e7891a",
   "metadata": {},
   "outputs": [],
   "source": [
    "import pandas as pd\n",
    "import re"
   ]
  },
  {
   "cell_type": "code",
   "execution_count": 2,
   "id": "383c3bae",
   "metadata": {},
   "outputs": [],
   "source": [
    "df = pd.read_csv('./Top-100 Trending Books.csv')"
   ]
  },
  {
   "cell_type": "code",
   "execution_count": 3,
   "id": "3422fda8",
   "metadata": {},
   "outputs": [],
   "source": [
    "def extract_asin(url):\n",
    "    match = re.search(r'/dp/([A-Z0-9]{10})', str(url))\n",
    "    return match.group(1) if match else ''\n",
    "\n",
    "def make_cover_url(asin):\n",
    "    if asin:\n",
    "        return f'https://images-na.ssl-images-amazon.com/images/P/{asin}.01._SCLZZZZZZZ_.jpg'\n",
    "    return ''\n",
    "\n",
    "def remove_surrounding_double_quotes(text):\n",
    "    if isinstance(text, str) and text.startswith('\"') and text.endswith('\"'):\n",
    "        return text[1:-1]\n",
    "    return text"
   ]
  },
  {
   "cell_type": "markdown",
   "id": "235403ce",
   "metadata": {},
   "source": [
    "## Create coverUrl column"
   ]
  },
  {
   "cell_type": "code",
   "execution_count": 4,
   "id": "b9fe357c",
   "metadata": {},
   "outputs": [],
   "source": [
    "df['coverUrl'] = df['url'].apply(lambda url: make_cover_url(extract_asin(url)))"
   ]
  },
  {
   "cell_type": "markdown",
   "id": "7c2d0053",
   "metadata": {},
   "source": [
    "## Remove old url column and adjust order"
   ]
  },
  {
   "cell_type": "code",
   "execution_count": 5,
   "id": "3512a228",
   "metadata": {},
   "outputs": [],
   "source": [
    "df = df.drop(columns=['url'])\n",
    "cols = list(df.columns)"
   ]
  },
  {
   "cell_type": "markdown",
   "id": "b494df89",
   "metadata": {},
   "source": [
    "## Move coverUrl to end of row"
   ]
  },
  {
   "cell_type": "code",
   "execution_count": 6,
   "id": "55cbe138",
   "metadata": {},
   "outputs": [],
   "source": [
    "cols = [col for col in cols if col != 'coverUrl'] + ['coverUrl']\n",
    "df = df[cols]"
   ]
  },
  {
   "cell_type": "code",
   "execution_count": 7,
   "id": "95e2ebe8",
   "metadata": {},
   "outputs": [
    {
     "data": {
      "text/html": [
       "<div>\n",
       "<style scoped>\n",
       "    .dataframe tbody tr th:only-of-type {\n",
       "        vertical-align: middle;\n",
       "    }\n",
       "\n",
       "    .dataframe tbody tr th {\n",
       "        vertical-align: top;\n",
       "    }\n",
       "\n",
       "    .dataframe thead th {\n",
       "        text-align: right;\n",
       "    }\n",
       "</style>\n",
       "<table border=\"1\" class=\"dataframe\">\n",
       "  <thead>\n",
       "    <tr style=\"text-align: right;\">\n",
       "      <th></th>\n",
       "      <th>Rank</th>\n",
       "      <th>book title</th>\n",
       "      <th>book price</th>\n",
       "      <th>rating</th>\n",
       "      <th>author</th>\n",
       "      <th>year of publication</th>\n",
       "      <th>genre</th>\n",
       "      <th>coverUrl</th>\n",
       "    </tr>\n",
       "  </thead>\n",
       "  <tbody>\n",
       "    <tr>\n",
       "      <th>0</th>\n",
       "      <td>1</td>\n",
       "      <td>Iron Flame (The Empyrean, 2)</td>\n",
       "      <td>18.42</td>\n",
       "      <td>4.1</td>\n",
       "      <td>Rebecca Yarros</td>\n",
       "      <td>2023</td>\n",
       "      <td>Fantasy Romance</td>\n",
       "      <td>https://images-na.ssl-images-amazon.com/images...</td>\n",
       "    </tr>\n",
       "    <tr>\n",
       "      <th>1</th>\n",
       "      <td>2</td>\n",
       "      <td>The Woman in Me</td>\n",
       "      <td>20.93</td>\n",
       "      <td>4.5</td>\n",
       "      <td>Britney Spears</td>\n",
       "      <td>2023</td>\n",
       "      <td>Memoir</td>\n",
       "      <td>https://images-na.ssl-images-amazon.com/images...</td>\n",
       "    </tr>\n",
       "    <tr>\n",
       "      <th>2</th>\n",
       "      <td>3</td>\n",
       "      <td>My Name Is Barbra</td>\n",
       "      <td>31.50</td>\n",
       "      <td>4.5</td>\n",
       "      <td>Barbra Streisand</td>\n",
       "      <td>2023</td>\n",
       "      <td>Autobiography</td>\n",
       "      <td>https://images-na.ssl-images-amazon.com/images...</td>\n",
       "    </tr>\n",
       "    <tr>\n",
       "      <th>3</th>\n",
       "      <td>4</td>\n",
       "      <td>Friends, Lovers, and the Big Terrible Thing: A...</td>\n",
       "      <td>23.99</td>\n",
       "      <td>4.4</td>\n",
       "      <td>Matthew Perry</td>\n",
       "      <td>2023</td>\n",
       "      <td>Memoir</td>\n",
       "      <td>https://images-na.ssl-images-amazon.com/images...</td>\n",
       "    </tr>\n",
       "    <tr>\n",
       "      <th>4</th>\n",
       "      <td>5</td>\n",
       "      <td>How to Catch a Turkey</td>\n",
       "      <td>5.65</td>\n",
       "      <td>4.8</td>\n",
       "      <td>Adam Wallace</td>\n",
       "      <td>2018</td>\n",
       "      <td>Childrens, Fiction</td>\n",
       "      <td>https://images-na.ssl-images-amazon.com/images...</td>\n",
       "    </tr>\n",
       "  </tbody>\n",
       "</table>\n",
       "</div>"
      ],
      "text/plain": [
       "   Rank                                         book title  book price  \\\n",
       "0     1                       Iron Flame (The Empyrean, 2)       18.42   \n",
       "1     2                                    The Woman in Me       20.93   \n",
       "2     3                                  My Name Is Barbra       31.50   \n",
       "3     4  Friends, Lovers, and the Big Terrible Thing: A...       23.99   \n",
       "4     5                              How to Catch a Turkey        5.65   \n",
       "\n",
       "   rating            author  year of publication               genre  \\\n",
       "0     4.1    Rebecca Yarros                 2023     Fantasy Romance   \n",
       "1     4.5    Britney Spears                 2023              Memoir   \n",
       "2     4.5  Barbra Streisand                 2023       Autobiography   \n",
       "3     4.4     Matthew Perry                 2023              Memoir   \n",
       "4     4.8      Adam Wallace                 2018  Childrens, Fiction   \n",
       "\n",
       "                                            coverUrl  \n",
       "0  https://images-na.ssl-images-amazon.com/images...  \n",
       "1  https://images-na.ssl-images-amazon.com/images...  \n",
       "2  https://images-na.ssl-images-amazon.com/images...  \n",
       "3  https://images-na.ssl-images-amazon.com/images...  \n",
       "4  https://images-na.ssl-images-amazon.com/images...  "
      ]
     },
     "execution_count": 7,
     "metadata": {},
     "output_type": "execute_result"
    }
   ],
   "source": [
    "df.head()"
   ]
  },
  {
   "cell_type": "code",
   "execution_count": 8,
   "id": "b3e6528d",
   "metadata": {},
   "outputs": [],
   "source": [
    "reviews = pd.read_csv('customer reviews.csv')\n",
    "books = df"
   ]
  },
  {
   "cell_type": "markdown",
   "id": "0a0b6213",
   "metadata": {},
   "source": [
    "## Extract ISBN from coverUrl"
   ]
  },
  {
   "cell_type": "code",
   "execution_count": 9,
   "id": "df051f1e",
   "metadata": {},
   "outputs": [],
   "source": [
    "books['ISBN'] = books['coverUrl'].apply(lambda url: url.split('/')[-1].split('.')[0] if pd.notnull(url) else '')\n",
    "\n",
    "books['ISBN'] = books['ISBN'].str.zfill(10)\n",
    "reviews['ASIN'] = reviews['ASIN'].astype(str).str.zfill(10)\n",
    "\n",
    "merged = pd.merge(\n",
    "    reviews,\n",
    "    books,\n",
    "    left_on='ASIN',\n",
    "    right_on='ISBN',\n",
    "    how='left'\n",
    ")"
   ]
  },
  {
   "cell_type": "markdown",
   "id": "c31569f0",
   "metadata": {},
   "source": [
    "## Select necessary features"
   ]
  },
  {
   "cell_type": "code",
   "execution_count": 10,
   "id": "cf3aa62c",
   "metadata": {},
   "outputs": [],
   "source": [
    "final = merged.rename(columns={\n",
    "    'book name': 'Book.title',\n",
    "    'author': 'Book.author',\n",
    "    'ASIN': 'Book.isbn',\n",
    "    'coverUrl': 'Book.coverUrl',\n",
    "    'reviewer': 'Review.reviewerName',\n",
    "    'reviewer rating': 'Review.rating',\n",
    "    'review description': 'Review.comment'\n",
    "})[\n",
    "    ['Book.title', 'Book.author', 'Book.isbn', 'Book.coverUrl', 'Review.reviewerName', 'Review.rating', 'Review.comment']\n",
    "]"
   ]
  },
  {
   "cell_type": "markdown",
   "id": "e2616c67",
   "metadata": {},
   "source": [
    "## Normalize title and review comments"
   ]
  },
  {
   "cell_type": "code",
   "execution_count": 11,
   "id": "a8a627a6",
   "metadata": {},
   "outputs": [],
   "source": [
    "final['Book.title'] = final['Book.title'].apply(remove_surrounding_double_quotes)\n",
    "final['Review.comment'] = final['Review.comment'].apply(remove_surrounding_double_quotes)"
   ]
  },
  {
   "cell_type": "code",
   "execution_count": 14,
   "id": "a274421b",
   "metadata": {},
   "outputs": [],
   "source": [
    "final.to_json('books_reviews_dataset.json', orient='records', force_ascii=False, lines=False)"
   ]
  },
  {
   "cell_type": "code",
   "execution_count": 13,
   "id": "4242352a",
   "metadata": {},
   "outputs": [
    {
     "data": {
      "text/html": [
       "<div>\n",
       "<style scoped>\n",
       "    .dataframe tbody tr th:only-of-type {\n",
       "        vertical-align: middle;\n",
       "    }\n",
       "\n",
       "    .dataframe tbody tr th {\n",
       "        vertical-align: top;\n",
       "    }\n",
       "\n",
       "    .dataframe thead th {\n",
       "        text-align: right;\n",
       "    }\n",
       "</style>\n",
       "<table border=\"1\" class=\"dataframe\">\n",
       "  <thead>\n",
       "    <tr style=\"text-align: right;\">\n",
       "      <th></th>\n",
       "      <th>Book.title</th>\n",
       "      <th>Book.author</th>\n",
       "      <th>Book.isbn</th>\n",
       "      <th>Book.coverUrl</th>\n",
       "      <th>Review.reviewerName</th>\n",
       "      <th>Review.rating</th>\n",
       "      <th>Review.comment</th>\n",
       "    </tr>\n",
       "  </thead>\n",
       "  <tbody>\n",
       "    <tr>\n",
       "      <th>0</th>\n",
       "      <td>The Woman in Me</td>\n",
       "      <td>Britney Spears</td>\n",
       "      <td>1668009048</td>\n",
       "      <td>https://images-na.ssl-images-amazon.com/images...</td>\n",
       "      <td>Murderess Marbie</td>\n",
       "      <td>4</td>\n",
       "      <td>I'm only a third way in. Shipped lightening fa...</td>\n",
       "    </tr>\n",
       "    <tr>\n",
       "      <th>1</th>\n",
       "      <td>The Woman in Me</td>\n",
       "      <td>Britney Spears</td>\n",
       "      <td>1668009048</td>\n",
       "      <td>https://images-na.ssl-images-amazon.com/images...</td>\n",
       "      <td>L J</td>\n",
       "      <td>5</td>\n",
       "      <td>There have been so many times when I was scare...</td>\n",
       "    </tr>\n",
       "    <tr>\n",
       "      <th>2</th>\n",
       "      <td>The Woman in Me</td>\n",
       "      <td>Britney Spears</td>\n",
       "      <td>1668009048</td>\n",
       "      <td>https://images-na.ssl-images-amazon.com/images...</td>\n",
       "      <td>Jamie</td>\n",
       "      <td>5</td>\n",
       "      <td>The media could not be loaded. I personally ha...</td>\n",
       "    </tr>\n",
       "    <tr>\n",
       "      <th>3</th>\n",
       "      <td>The Woman in Me</td>\n",
       "      <td>Britney Spears</td>\n",
       "      <td>1668009048</td>\n",
       "      <td>https://images-na.ssl-images-amazon.com/images...</td>\n",
       "      <td>KMG</td>\n",
       "      <td>5</td>\n",
       "      <td>I have been a fan of Britney's music since the...</td>\n",
       "    </tr>\n",
       "    <tr>\n",
       "      <th>4</th>\n",
       "      <td>The Woman in Me</td>\n",
       "      <td>Britney Spears</td>\n",
       "      <td>1668009048</td>\n",
       "      <td>https://images-na.ssl-images-amazon.com/images...</td>\n",
       "      <td>Stephanie Brown</td>\n",
       "      <td>5</td>\n",
       "      <td>Whether or not you’re a fan, it’s a great read...</td>\n",
       "    </tr>\n",
       "  </tbody>\n",
       "</table>\n",
       "</div>"
      ],
      "text/plain": [
       "        Book.title     Book.author   Book.isbn  \\\n",
       "0  The Woman in Me  Britney Spears  1668009048   \n",
       "1  The Woman in Me  Britney Spears  1668009048   \n",
       "2  The Woman in Me  Britney Spears  1668009048   \n",
       "3  The Woman in Me  Britney Spears  1668009048   \n",
       "4  The Woman in Me  Britney Spears  1668009048   \n",
       "\n",
       "                                       Book.coverUrl Review.reviewerName  \\\n",
       "0  https://images-na.ssl-images-amazon.com/images...    Murderess Marbie   \n",
       "1  https://images-na.ssl-images-amazon.com/images...                 L J   \n",
       "2  https://images-na.ssl-images-amazon.com/images...               Jamie   \n",
       "3  https://images-na.ssl-images-amazon.com/images...                 KMG   \n",
       "4  https://images-na.ssl-images-amazon.com/images...     Stephanie Brown   \n",
       "\n",
       "   Review.rating                                     Review.comment  \n",
       "0              4  I'm only a third way in. Shipped lightening fa...  \n",
       "1              5  There have been so many times when I was scare...  \n",
       "2              5  The media could not be loaded. I personally ha...  \n",
       "3              5  I have been a fan of Britney's music since the...  \n",
       "4              5  Whether or not you’re a fan, it’s a great read...  "
      ]
     },
     "execution_count": 13,
     "metadata": {},
     "output_type": "execute_result"
    }
   ],
   "source": [
    "final.head()\n"
   ]
  }
 ],
 "metadata": {
  "kernelspec": {
   "display_name": "venv",
   "language": "python",
   "name": "python3"
  },
  "language_info": {
   "codemirror_mode": {
    "name": "ipython",
    "version": 3
   },
   "file_extension": ".py",
   "mimetype": "text/x-python",
   "name": "python",
   "nbconvert_exporter": "python",
   "pygments_lexer": "ipython3",
   "version": "3.11.13"
  }
 },
 "nbformat": 4,
 "nbformat_minor": 5
}
